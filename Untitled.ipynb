{
 "cells": [
  {
   "cell_type": "markdown",
   "id": "84273b3e",
   "metadata": {},
   "source": [
    "<h1 style=\"text-align: center; font-family: Calibri; font-size: 36px; font-style: normal; font-weight: bold; text-decoration: none; text-transform: none; font-variant: small-caps; letter-spacing: 3px; color: black; background-color: #ffffff;\">COVID-19 X-Ray</h1>\n",
    "<h4 style=\"text-align: center; font-family: Calibri; font-size: 12px; font-style: normal; font-weight: bold; text-decoration: None; text-transform: none; letter-spacing: 1px; color: black; background-color: #ffffff;\">Autor: Ali Altamimi, Faisal, Omran, Ganim - 1 / Dec / 2021</h4>\n"
   ]
  },
  {
   "cell_type": "code",
   "execution_count": 14,
   "id": "467a65e3",
   "metadata": {
    "ExecuteTime": {
     "end_time": "2021-12-02T06:05:37.979225Z",
     "start_time": "2021-12-02T06:05:37.969547Z"
    }
   },
   "outputs": [],
   "source": [
    "import pandas as pd"
   ]
  },
  {
   "cell_type": "markdown",
   "id": "b7ca0e20",
   "metadata": {},
   "source": [
    "## Load Train Data"
   ]
  },
  {
   "cell_type": "code",
   "execution_count": 15,
   "id": "1da02106",
   "metadata": {
    "ExecuteTime": {
     "end_time": "2021-12-02T06:05:38.376640Z",
     "start_time": "2021-12-02T06:05:38.309769Z"
    }
   },
   "outputs": [],
   "source": [
    "train_df = pd.read_csv('data/train.txt', sep=\" \", header=None)\n",
    "train_df.columns=['id', 'file_paths', 'labels', 'data source']\n",
    "train_df=train_df.drop(['id', 'data source'], axis=1 )"
   ]
  },
  {
   "cell_type": "markdown",
   "id": "6d7ed26f",
   "metadata": {},
   "source": [
    "## Load Train Data"
   ]
  },
  {
   "cell_type": "code",
   "execution_count": 16,
   "id": "b108baf6",
   "metadata": {
    "ExecuteTime": {
     "end_time": "2021-12-02T06:05:38.648432Z",
     "start_time": "2021-12-02T06:05:38.635897Z"
    }
   },
   "outputs": [],
   "source": [
    "test_df = pd.read_csv('data/test.txt', sep=\" \", header=None)\n",
    "test_df.columns=['id', 'file_paths', 'labels', 'data source' ]\n",
    "test_df=test_df.drop(['id', 'data source'], axis=1 )"
   ]
  },
  {
   "cell_type": "markdown",
   "id": "eae718e3",
   "metadata": {},
   "source": [
    "## EDA "
   ]
  },
  {
   "cell_type": "code",
   "execution_count": 17,
   "id": "a6f0f1cb",
   "metadata": {
    "ExecuteTime": {
     "end_time": "2021-12-02T06:05:38.928618Z",
     "start_time": "2021-12-02T06:05:38.924963Z"
    }
   },
   "outputs": [],
   "source": [
    "import matplotlib.pyplot as plt\n",
    "import seaborn as sns"
   ]
  },
  {
   "cell_type": "code",
   "execution_count": 18,
   "id": "60eb3f63",
   "metadata": {
    "ExecuteTime": {
     "end_time": "2021-12-02T06:05:39.054147Z",
     "start_time": "2021-12-02T06:05:39.050591Z"
    }
   },
   "outputs": [
    {
     "data": {
      "text/html": [
       "\n",
       "<style>\n",
       ".output_png {\n",
       "    display: table-cell;\n",
       "    text-align: center;\n",
       "    vertical-align: middle;\n",
       "}\n",
       "</style>\n"
      ],
      "text/plain": [
       "<IPython.core.display.HTML object>"
      ]
     },
     "execution_count": 18,
     "metadata": {},
     "output_type": "execute_result"
    }
   ],
   "source": [
    "from IPython.core.display import HTML\n",
    "HTML(\"\"\"\n",
    "<style>\n",
    ".output_png {\n",
    "    display: table-cell;\n",
    "    text-align: center;\n",
    "    vertical-align: middle;\n",
    "}\n",
    "</style>\n",
    "\"\"\")"
   ]
  },
  {
   "cell_type": "markdown",
   "id": "34b726df",
   "metadata": {},
   "source": [
    "### Check the balance of the dataset"
   ]
  },
  {
   "cell_type": "code",
   "execution_count": 19,
   "id": "6a5a63cd",
   "metadata": {
    "ExecuteTime": {
     "end_time": "2021-12-02T06:05:39.353024Z",
     "start_time": "2021-12-02T06:05:39.347068Z"
    }
   },
   "outputs": [],
   "source": [
    "#define Seaborn color palette to use\n",
    "colors = sns.color_palette('pastel')"
   ]
  },
  {
   "cell_type": "code",
   "execution_count": 20,
   "id": "f6831559",
   "metadata": {
    "ExecuteTime": {
     "end_time": "2021-12-02T06:05:39.481130Z",
     "start_time": "2021-12-02T06:05:39.474962Z"
    }
   },
   "outputs": [],
   "source": [
    "# Define labels\n",
    "data_lables = ['Positive', 'Negative']\n",
    "# Count train and test lables\n",
    "train_value_counts = train_df.labels.value_counts()\n",
    "test_value_counts=test_df.labels.value_counts()"
   ]
  },
  {
   "cell_type": "code",
   "execution_count": 21,
   "id": "a7cc17d1",
   "metadata": {
    "ExecuteTime": {
     "end_time": "2021-12-02T06:05:39.677734Z",
     "start_time": "2021-12-02T06:05:39.592323Z"
    },
    "scrolled": false
   },
   "outputs": [
    {
     "data": {
      "image/png": "[encoded data removed]",
      "text/plain": [
       "<Figure size 720x360 with 2 Axes>"
      ]
     },
     "metadata": {},
     "output_type": "display_data"
    }
   ],
   "source": [
    "fig1, ax1 = plt.subplots(1,2, figsize=(10, 5))\n",
    "\n",
    "#create pie chart\n",
    "ax1[0].pie(train_value_counts, labels = data_lables, colors = colors, autopct='%.0f%%')\n",
    "ax1[0].set_xlabel('Train Dataset')\n",
    "\n",
    "#create pie chart\n",
    "ax1[1].pie(test_value_counts, labels = data_lables, colors = colors, autopct='%.0f%%')\n",
    "ax1[1].set_xlabel('Test Dataset')\n",
    "\n",
    "fig1.suptitle('Data Disterbution')\n",
    "fig1.legend(data_lables)\n",
    "plt.show()"
   ]
  },
  {
   "cell_type": "code",
   "execution_count": 22,
   "id": "ee80b287",
   "metadata": {
    "ExecuteTime": {
     "end_time": "2021-12-02T06:05:39.737215Z",
     "start_time": "2021-12-02T06:05:39.731707Z"
    }
   },
   "outputs": [
    {
     "data": {
      "text/html": [
       "<div>\n",
       "<style scoped>\n",
       "    .dataframe tbody tr th:only-of-type {\n",
       "        vertical-align: middle;\n",
       "    }\n",
       "\n",
       "    .dataframe tbody tr th {\n",
       "        vertical-align: top;\n",
       "    }\n",
       "\n",
       "    .dataframe thead th {\n",
       "        text-align: right;\n",
       "    }\n",
       "</style>\n",
       "<table border=\"1\" class=\"dataframe\">\n",
       "  <thead>\n",
       "    <tr style=\"text-align: right;\">\n",
       "      <th></th>\n",
       "      <th>file_paths</th>\n",
       "      <th>labels</th>\n",
       "    </tr>\n",
       "  </thead>\n",
       "  <tbody>\n",
       "    <tr>\n",
       "      <th>0</th>\n",
       "      <td>ARDSSevere.png</td>\n",
       "      <td>negative</td>\n",
       "    </tr>\n",
       "    <tr>\n",
       "      <th>1</th>\n",
       "      <td>acute-respiratory-distress-syndrome-ards-1.jpg</td>\n",
       "      <td>negative</td>\n",
       "    </tr>\n",
       "    <tr>\n",
       "      <th>2</th>\n",
       "      <td>acute-respiratory-distress-syndrome-ards.jpg</td>\n",
       "      <td>negative</td>\n",
       "    </tr>\n",
       "    <tr>\n",
       "      <th>3</th>\n",
       "      <td>ards-secondary-to-tiger-snake-bite.png</td>\n",
       "      <td>negative</td>\n",
       "    </tr>\n",
       "    <tr>\n",
       "      <th>4</th>\n",
       "      <td>pneumocystis-pneumonia-2-PA.png</td>\n",
       "      <td>negative</td>\n",
       "    </tr>\n",
       "    <tr>\n",
       "      <th>...</th>\n",
       "      <td>...</td>\n",
       "      <td>...</td>\n",
       "    </tr>\n",
       "    <tr>\n",
       "      <th>30477</th>\n",
       "      <td>55204bb8-89fc-449d-8563-e91654abea9d.png</td>\n",
       "      <td>negative</td>\n",
       "    </tr>\n",
       "    <tr>\n",
       "      <th>30478</th>\n",
       "      <td>0f4b80b6-fd39-451f-aebf-7cdb1b655c0b.png</td>\n",
       "      <td>negative</td>\n",
       "    </tr>\n",
       "    <tr>\n",
       "      <th>30479</th>\n",
       "      <td>5fb64e85-62ef-4852-8ad1-f799015c8cc3.png</td>\n",
       "      <td>negative</td>\n",
       "    </tr>\n",
       "    <tr>\n",
       "      <th>30480</th>\n",
       "      <td>c57ad4fd-3aa8-4ae8-a262-7336360d8265.png</td>\n",
       "      <td>negative</td>\n",
       "    </tr>\n",
       "    <tr>\n",
       "      <th>30481</th>\n",
       "      <td>c56b4527-615d-414f-a375-081e6f3bbfdc.png</td>\n",
       "      <td>negative</td>\n",
       "    </tr>\n",
       "  </tbody>\n",
       "</table>\n",
       "<p>30482 rows × 2 columns</p>\n",
       "</div>"
      ],
      "text/plain": [
       "                                           file_paths    labels\n",
       "0                                      ARDSSevere.png  negative\n",
       "1      acute-respiratory-distress-syndrome-ards-1.jpg  negative\n",
       "2        acute-respiratory-distress-syndrome-ards.jpg  negative\n",
       "3              ards-secondary-to-tiger-snake-bite.png  negative\n",
       "4                     pneumocystis-pneumonia-2-PA.png  negative\n",
       "...                                               ...       ...\n",
       "30477        55204bb8-89fc-449d-8563-e91654abea9d.png  negative\n",
       "30478        0f4b80b6-fd39-451f-aebf-7cdb1b655c0b.png  negative\n",
       "30479        5fb64e85-62ef-4852-8ad1-f799015c8cc3.png  negative\n",
       "30480        c57ad4fd-3aa8-4ae8-a262-7336360d8265.png  negative\n",
       "30481        c56b4527-615d-414f-a375-081e6f3bbfdc.png  negative\n",
       "\n",
       "[30482 rows x 2 columns]"
      ]
     },
     "execution_count": 22,
     "metadata": {},
     "output_type": "execute_result"
    }
   ],
   "source": [
    "train_df"
   ]
  },
  {
   "cell_type": "code",
   "execution_count": 23,
   "id": "cfe10ca9",
   "metadata": {
    "ExecuteTime": {
     "end_time": "2021-12-02T06:05:40.083372Z",
     "start_time": "2021-12-02T06:05:40.079222Z"
    }
   },
   "outputs": [],
   "source": [
    "# fig2 = sns.catplot(data = train_df, x='labels',kind='count',height=8.27, aspect=11.7/8.27, hue=)\n",
    "# hue.legend()\n",
    "# fig2\n"
   ]
  },
  {
   "cell_type": "code",
   "execution_count": 24,
   "id": "332d6b05",
   "metadata": {
    "ExecuteTime": {
     "end_time": "2021-12-02T06:05:40.272200Z",
     "start_time": "2021-12-02T06:05:40.270503Z"
    }
   },
   "outputs": [],
   "source": [
    "# Spliting data based on the label "
   ]
  },
  {
   "cell_type": "code",
   "execution_count": 25,
   "id": "4b9c22dc",
   "metadata": {
    "ExecuteTime": {
     "end_time": "2021-12-02T06:05:40.457594Z",
     "start_time": "2021-12-02T06:05:40.445981Z"
    }
   },
   "outputs": [],
   "source": [
    "# Train\n",
    "train_negative_df = train_df[train_df.labels == 'negative']\n",
    "train_positive_df = train_df[train_df.labels == 'positive']\n",
    "# Test\n",
    "test_negative_df = test_df[test_df.labels == 'negative']\n",
    "test_positive_df = test_df[test_df.labels == 'positive']"
   ]
  },
  {
   "cell_type": "markdown",
   "id": "566eb4be",
   "metadata": {},
   "source": [
    "### Display Images that will be used"
   ]
  },
  {
   "cell_type": "code",
   "execution_count": 26,
   "id": "b51a415a",
   "metadata": {
    "ExecuteTime": {
     "end_time": "2021-12-02T06:05:40.811768Z",
     "start_time": "2021-12-02T06:05:40.793378Z"
    }
   },
   "outputs": [
    {
     "ename": "ModuleNotFoundError",
     "evalue": "No module named 'cv2'",
     "output_type": "error",
     "traceback": [
      "\u001b[0;31m---------------------------------------------------------------------------\u001b[0m",
      "\u001b[0;31mModuleNotFoundError\u001b[0m                       Traceback (most recent call last)",
      "\u001b[0;32m<ipython-input-26-8964ebf0228c>\u001b[0m in \u001b[0;36m<module>\u001b[0;34m\u001b[0m\n\u001b[1;32m      2\u001b[0m \u001b[0;32mimport\u001b[0m \u001b[0mmatplotlib\u001b[0m\u001b[0;34m.\u001b[0m\u001b[0mimage\u001b[0m \u001b[0;32mas\u001b[0m \u001b[0mmpimg\u001b[0m\u001b[0;34m\u001b[0m\u001b[0;34m\u001b[0m\u001b[0m\n\u001b[1;32m      3\u001b[0m \u001b[0;32mfrom\u001b[0m \u001b[0mmatplotlib\u001b[0m \u001b[0;32mimport\u001b[0m \u001b[0mrcParams\u001b[0m\u001b[0;34m\u001b[0m\u001b[0;34m\u001b[0m\u001b[0m\n\u001b[0;32m----> 4\u001b[0;31m \u001b[0;32mimport\u001b[0m \u001b[0mcv2\u001b[0m\u001b[0;34m\u001b[0m\u001b[0;34m\u001b[0m\u001b[0m\n\u001b[0m\u001b[1;32m      5\u001b[0m \u001b[0mget_ipython\u001b[0m\u001b[0;34m(\u001b[0m\u001b[0;34m)\u001b[0m\u001b[0;34m.\u001b[0m\u001b[0mrun_line_magic\u001b[0m\u001b[0;34m(\u001b[0m\u001b[0;34m'matplotlib'\u001b[0m\u001b[0;34m,\u001b[0m \u001b[0;34m'inline'\u001b[0m\u001b[0;34m)\u001b[0m\u001b[0;34m\u001b[0m\u001b[0;34m\u001b[0m\u001b[0m\n\u001b[1;32m      6\u001b[0m \u001b[0;31m# figure size in inches optional\u001b[0m\u001b[0;34m\u001b[0m\u001b[0;34m\u001b[0m\u001b[0;34m\u001b[0m\u001b[0m\n",
      "\u001b[0;31mModuleNotFoundError\u001b[0m: No module named 'cv2'"
     ]
    }
   ],
   "source": [
    "from IPython.display import Image\n",
    "import matplotlib.image as mpimg\n",
    "from matplotlib import rcParams\n",
    "import cv2\n",
    "%matplotlib inline\n",
    "# figure size in inches optional\n",
    "rcParams['figure.figsize'] = 11 ,5\n"
   ]
  },
  {
   "cell_type": "code",
   "execution_count": 27,
   "id": "b2f2edcd",
   "metadata": {
    "ExecuteTime": {
     "end_time": "2021-12-02T06:05:41.013378Z",
     "start_time": "2021-12-02T06:05:41.011107Z"
    }
   },
   "outputs": [],
   "source": [
    "train_path = 'data/train/'\n",
    "test_path = 'data/test/'"
   ]
  },
  {
   "cell_type": "code",
   "execution_count": 28,
   "id": "565f4f7c",
   "metadata": {
    "ExecuteTime": {
     "end_time": "2021-12-02T06:05:41.905261Z",
     "start_time": "2021-12-02T06:05:41.531646Z"
    },
    "scrolled": true
   },
   "outputs": [
    {
     "data": {
      "image/png": "[encoded data removed]",
      "text/plain": [
       "<Figure size 432x288 with 2 Axes>"
      ]
     },
     "metadata": {
      "needs_background": "light"
     },
     "output_type": "display_data"
    }
   ],
   "source": [
    "# read images\n",
    "img_A = mpimg.imread(f'{train_path}/{train_negative_df.file_paths.iloc[0]}')\n",
    "img_B = mpimg.imread(f'{train_path}/{train_positive_df.file_paths.iloc[4]}')\n",
    "# display images\n",
    "fig, ax = plt.subplots(1,2)\n",
    "ax[0].imshow(img_A);\n",
    "ax[0].set_xlabel('Negative Image')\n",
    "\n",
    "ax[1].imshow(img_B);\n",
    "ax[1].set_xlabel('Positive Image')\n",
    "fig.suptitle('Example of Training Images')\n",
    "plt.show()"
   ]
  },
  {
   "cell_type": "markdown",
   "id": "04effbb0",
   "metadata": {},
   "source": [
    "From the two images we can tell that there is difference in images sizes which we need to handle later!"
   ]
  },
  {
   "cell_type": "code",
   "execution_count": 29,
   "id": "4b2f3ed4",
   "metadata": {
    "ExecuteTime": {
     "end_time": "2021-12-02T06:05:42.777131Z",
     "start_time": "2021-12-02T06:05:42.768118Z"
    }
   },
   "outputs": [],
   "source": [
    "def print_images(samples, folder_path, columns=3, rows=1, figsize=(20, 8)): \n",
    "    images = samples[\"file_paths\"].to_numpy()\n",
    "    labels = samples['labels'].to_numpy()\n",
    "    \n",
    "    fig=plt.figure(figsize=figsize)\n",
    "    \n",
    "    for i, image_path in enumerate(images):\n",
    "        image = cv2.imread(f'{folder_path}/{image_path}', cv2.IMREAD_COLOR)\n",
    "        \n",
    "        fig.add_subplot(rows,columns,i + 1)\n",
    "        title = f'{labels[i]}'\n",
    "        \n",
    "        Sample_image = cv2.resize(image, (224, 224), interpolation = cv2.INTER_CUBIC)\n",
    "        \n",
    "        plt.imshow(Sample_image, cmap='gray')\n",
    "        plt.title(title)\n",
    "        \n",
    "    plt.show()"
   ]
  },
  {
   "cell_type": "code",
   "execution_count": 30,
   "id": "324a0788",
   "metadata": {
    "ExecuteTime": {
     "end_time": "2021-12-02T06:05:43.179600Z",
     "start_time": "2021-12-02T06:05:43.145086Z"
    }
   },
   "outputs": [
    {
     "ename": "NameError",
     "evalue": "name 'cv2' is not defined",
     "output_type": "error",
     "traceback": [
      "\u001b[0;31m---------------------------------------------------------------------------\u001b[0m",
      "\u001b[0;31mNameError\u001b[0m                                 Traceback (most recent call last)",
      "\u001b[0;32m<ipython-input-30-b47a05d5e39c>\u001b[0m in \u001b[0;36m<module>\u001b[0;34m\u001b[0m\n\u001b[0;32m----> 1\u001b[0;31m \u001b[0mprint_images\u001b[0m\u001b[0;34m(\u001b[0m\u001b[0mtrain_negative_df\u001b[0m\u001b[0;34m.\u001b[0m\u001b[0miloc\u001b[0m\u001b[0;34m[\u001b[0m\u001b[0;36m0\u001b[0m\u001b[0;34m:\u001b[0m\u001b[0;36m3\u001b[0m\u001b[0;34m]\u001b[0m\u001b[0;34m,\u001b[0m \u001b[0mtrain_path\u001b[0m\u001b[0;34m)\u001b[0m\u001b[0;34m\u001b[0m\u001b[0;34m\u001b[0m\u001b[0m\n\u001b[0m\u001b[1;32m      2\u001b[0m \u001b[0mprint_images\u001b[0m\u001b[0;34m(\u001b[0m\u001b[0mtrain_positive_df\u001b[0m\u001b[0;34m.\u001b[0m\u001b[0miloc\u001b[0m\u001b[0;34m[\u001b[0m\u001b[0;36m0\u001b[0m\u001b[0;34m:\u001b[0m\u001b[0;36m3\u001b[0m\u001b[0;34m]\u001b[0m\u001b[0;34m,\u001b[0m \u001b[0mtrain_path\u001b[0m\u001b[0;34m)\u001b[0m\u001b[0;34m\u001b[0m\u001b[0;34m\u001b[0m\u001b[0m\n",
      "\u001b[0;32m<ipython-input-29-042d4a1c5365>\u001b[0m in \u001b[0;36mprint_images\u001b[0;34m(samples, folder_path, columns, rows, figsize)\u001b[0m\n\u001b[1;32m      6\u001b[0m \u001b[0;34m\u001b[0m\u001b[0m\n\u001b[1;32m      7\u001b[0m     \u001b[0;32mfor\u001b[0m \u001b[0mi\u001b[0m\u001b[0;34m,\u001b[0m \u001b[0mimage_path\u001b[0m \u001b[0;32min\u001b[0m \u001b[0menumerate\u001b[0m\u001b[0;34m(\u001b[0m\u001b[0mimages\u001b[0m\u001b[0;34m)\u001b[0m\u001b[0;34m:\u001b[0m\u001b[0;34m\u001b[0m\u001b[0;34m\u001b[0m\u001b[0m\n\u001b[0;32m----> 8\u001b[0;31m         \u001b[0mimage\u001b[0m \u001b[0;34m=\u001b[0m \u001b[0mcv2\u001b[0m\u001b[0;34m.\u001b[0m\u001b[0mimread\u001b[0m\u001b[0;34m(\u001b[0m\u001b[0;34mf'{folder_path}/{image_path}'\u001b[0m\u001b[0;34m,\u001b[0m \u001b[0mcv2\u001b[0m\u001b[0;34m.\u001b[0m\u001b[0mIMREAD_COLOR\u001b[0m\u001b[0;34m)\u001b[0m\u001b[0;34m\u001b[0m\u001b[0;34m\u001b[0m\u001b[0m\n\u001b[0m\u001b[1;32m      9\u001b[0m \u001b[0;34m\u001b[0m\u001b[0m\n\u001b[1;32m     10\u001b[0m         \u001b[0mfig\u001b[0m\u001b[0;34m.\u001b[0m\u001b[0madd_subplot\u001b[0m\u001b[0;34m(\u001b[0m\u001b[0mrows\u001b[0m\u001b[0;34m,\u001b[0m\u001b[0mcolumns\u001b[0m\u001b[0;34m,\u001b[0m\u001b[0mi\u001b[0m \u001b[0;34m+\u001b[0m \u001b[0;36m1\u001b[0m\u001b[0;34m)\u001b[0m\u001b[0;34m\u001b[0m\u001b[0;34m\u001b[0m\u001b[0m\n",
      "\u001b[0;31mNameError\u001b[0m: name 'cv2' is not defined"
     ]
    },
    {
     "data": {
      "text/plain": [
       "<Figure size 1440x576 with 0 Axes>"
      ]
     },
     "metadata": {},
     "output_type": "display_data"
    }
   ],
   "source": [
    "print_images(train_negative_df.iloc[0:3], train_path)\n",
    "print_images(train_positive_df.iloc[0:3], train_path)\n"
   ]
  },
  {
   "cell_type": "markdown",
   "id": "abc021a0",
   "metadata": {},
   "source": [
    "Now images are resized to be in the same size"
   ]
  },
  {
   "cell_type": "code",
   "execution_count": null,
   "id": "8c379644",
   "metadata": {
    "ExecuteTime": {
     "end_time": "2021-12-02T06:00:25.637391Z",
     "start_time": "2021-12-02T06:00:23.834Z"
    }
   },
   "outputs": [],
   "source": [
    "import tensorflow as tf\n",
    "\n",
    "from tensorflow.keras import datasets, layers, models\n",
    "import matplotlib.pyplot as plt"
   ]
  },
  {
   "cell_type": "code",
   "execution_count": null,
   "id": "1110b65a",
   "metadata": {
    "ExecuteTime": {
     "end_time": "2021-12-02T06:00:25.637990Z",
     "start_time": "2021-12-02T06:00:23.835Z"
    }
   },
   "outputs": [],
   "source": [
    "from sklearn.model_selection import train_test_split\n",
    "\n",
    "train_df_sample, valid_df_sample = train_test_split(train_df, train_size=0.9, random_state=0)"
   ]
  },
  {
   "cell_type": "code",
   "execution_count": null,
   "id": "93aa6a1a",
   "metadata": {
    "ExecuteTime": {
     "end_time": "2021-12-02T06:00:25.638989Z",
     "start_time": "2021-12-02T06:00:23.836Z"
    }
   },
   "outputs": [],
   "source": [
    "print(f\"Negative and positive values of train: \\n{train_df_sample['labels'].value_counts()}\")\n",
    "print(f\"Negative and positive values of validation: \\n{valid_df_sample['labels'].value_counts()}\")\n",
    "print(f\"Negative and positive values of test: \\n{test_df['labels'].value_counts()}\")\n"
   ]
  },
  {
   "cell_type": "code",
   "execution_count": null,
   "id": "27b67f79",
   "metadata": {
    "ExecuteTime": {
     "end_time": "2021-12-02T06:00:25.639599Z",
     "start_time": "2021-12-02T06:00:23.837Z"
    }
   },
   "outputs": [],
   "source": [
    "from tensorflow.keras.models import Sequential\n",
    "from tensorflow.keras.layers import Dense, Dropout, Flatten, Conv2D, MaxPooling2D"
   ]
  },
  {
   "cell_type": "code",
   "execution_count": null,
   "id": "bb6ef8fb",
   "metadata": {
    "ExecuteTime": {
     "end_time": "2021-12-02T06:00:25.640269Z",
     "start_time": "2021-12-02T06:00:23.839Z"
    }
   },
   "outputs": [],
   "source": [
    "model = Sequential()\n",
    "model.add(Conv2D(32, (3, 3), activation='relu', padding='same', input_shape=(32,32,3)))\n",
    "model.add(Conv2D(32, (3, 3), activation='relu', padding='same', input_shape=(32,32,3)))\n",
    "model.add(Conv2D(32, (3, 3), activation='relu', padding='same', input_shape=(32,32,3)))\n",
    "model.add(Conv2D(32, (3, 3), activation='relu', padding='same', input_shape=(32,32,3)))\n",
    "\n",
    "model.add(Conv2D(64, (3, 3), activation='relu', padding='same'))\n",
    "model.add(Conv2D(64, (3, 3), activation='relu', padding='same'))\n",
    "model.add(MaxPooling2D(pool_size=(2, 2)))\n",
    "model.add(Dropout(0.25))\n",
    "model.add(Flatten())\n",
    "model.add(Dense(512, activation='relu'))\n",
    "model.add(Dropout(0.5))\n",
    "model.add(Dense(1, activation='sigmoid'))"
   ]
  },
  {
   "cell_type": "code",
   "execution_count": null,
   "id": "781342da",
   "metadata": {
    "ExecuteTime": {
     "end_time": "2021-12-02T06:00:25.640980Z",
     "start_time": "2021-12-02T06:00:23.840Z"
    }
   },
   "outputs": [],
   "source": [
    "model.summary()"
   ]
  },
  {
   "cell_type": "code",
   "execution_count": null,
   "id": "93a7d6a2",
   "metadata": {
    "ExecuteTime": {
     "end_time": "2021-12-02T06:00:25.641506Z",
     "start_time": "2021-12-02T06:00:23.841Z"
    }
   },
   "outputs": [],
   "source": [
    "model.compile(loss='categorical_crossentropy',\n",
    "              optimizer='adam',\n",
    "              metrics=['accuracy'])"
   ]
  },
  {
   "cell_type": "code",
   "execution_count": null,
   "id": "3d26cb79",
   "metadata": {
    "ExecuteTime": {
     "end_time": "2021-12-02T06:00:25.642122Z",
     "start_time": "2021-12-02T06:00:23.842Z"
    }
   },
   "outputs": [],
   "source": [
    "# hist = model.fit(x_train, y_train_one_hot, \n",
    "#            batch_size=32, epochs=20, \n",
    "#            validation_split=0.2)"
   ]
  },
  {
   "cell_type": "code",
   "execution_count": null,
   "id": "cd78e154",
   "metadata": {
    "ExecuteTime": {
     "end_time": "2021-12-02T06:00:25.642620Z",
     "start_time": "2021-12-02T06:00:23.843Z"
    }
   },
   "outputs": [],
   "source": [
    "import numpy as np\n",
    "import cv2"
   ]
  },
  {
   "cell_type": "code",
   "execution_count": null,
   "id": "58461688",
   "metadata": {
    "ExecuteTime": {
     "end_time": "2021-12-02T06:00:25.643341Z",
     "start_time": "2021-12-02T06:00:23.844Z"
    }
   },
   "outputs": [],
   "source": [
    "def read_images(df):\n",
    "    _list = list()\n",
    "    for i in df.file_paths:\n",
    "#         try:\n",
    "        my_image = cv2.imread(f\"{train_path}/{i}\")\n",
    "#         except:\n",
    "#             print(i)\n",
    "        _list.append(my_image)\n",
    "    return np.array(_list)"
   ]
  },
  {
   "cell_type": "code",
   "execution_count": null,
   "id": "25a73ea3",
   "metadata": {
    "ExecuteTime": {
     "end_time": "2021-12-02T06:00:25.644977Z",
     "start_time": "2021-12-02T06:00:23.845Z"
    },
    "scrolled": false
   },
   "outputs": [],
   "source": [
    "# read_images(train_df_sample)"
   ]
  },
  {
   "cell_type": "code",
   "execution_count": null,
   "id": "5efc66c4",
   "metadata": {
    "ExecuteTime": {
     "end_time": "2021-12-02T06:00:25.645965Z",
     "start_time": "2021-12-02T06:00:23.846Z"
    }
   },
   "outputs": [],
   "source": [
    "import glob\n",
    "import cv2\n",
    "\n",
    "images = [cv2.imread(f'{train_path}/{file}') for file in train_df_sample.file_paths]\n"
   ]
  },
  {
   "cell_type": "code",
   "execution_count": null,
   "id": "afd3a94c",
   "metadata": {
    "ExecuteTime": {
     "end_time": "2021-12-02T06:00:25.646874Z",
     "start_time": "2021-12-02T06:00:23.847Z"
    },
    "scrolled": false
   },
   "outputs": [],
   "source": [
    "from tensorflow.keras.preprocessing.image import ImageDataGenerator\n",
    "\n",
    "#Let's start the modelling task\n",
    "# The ImageDataGenerator for keras is awesome.\n",
    "#It lets you augment your images in real-time while your model is still training! \n",
    "#You can apply any random transformations on each training image as it is passed to the model. \n",
    "#This will not only make your model robust but will also save up on the overhead memory!\n",
    "\n",
    "\n",
    "#We will apply the Image Data Generator on training with various parameters, but we won't apply \n",
    "#the same parameters on testin. Why?\n",
    "# Because we want the test iamges as it is, we don't want biasedness,\n",
    "#also if we fit it we will be applying\n",
    "# the model only on these test images only, it can't predict new images if fed into model\n",
    "#Because new images will not be augmented this way\n",
    "\n",
    "\n",
    "train_datagen = ImageDataGenerator(rescale = 1./255.,rotation_range = 40, width_shift_range = 0.2, height_shift_range = 0.2, \n",
    "                                   shear_range = 0.2, zoom_range = 0.2, horizontal_flip = True, vertical_flip =True)\n",
    "test_datagen = ImageDataGenerator(rescale = 1.0/255.)\n",
    "\n",
    "#Now fit the them to get the images from directory (name of the images are given in dataframe) with augmentation\n",
    "\n",
    "\n",
    "train_gen = train_datagen.flow_from_dataframe(dataframe = train_df_sample, directory=train_path, x_col='file_paths', \n",
    "                                              y_col='labels', target_size=(200,200), batch_size=64, \n",
    "                                               class_mode='binary')\n",
    "valid_gen = test_datagen.flow_from_dataframe(dataframe = valid_df_sample, directory=train_path, x_col='file_paths',\n",
    "                                             y_col='labels', target_size=(200,200), batch_size=64, \n",
    "                                            class_mode='binary')\n",
    "test_gen = test_datagen.flow_from_dataframe(dataframe = test_df, directory=test_path, x_col='file_paths', \n",
    "                                            y_col='labels', target_size=(200,200), batch_size=64,\n",
    "                                             class_mode='binary')\n",
    "#class mode binary because we want the classifier to predict covid or not\n",
    "#target size (200,200) means we want the images to resized to 200*200"
   ]
  },
  {
   "cell_type": "code",
   "execution_count": null,
   "id": "b8383627",
   "metadata": {
    "ExecuteTime": {
     "end_time": "2021-12-02T06:00:25.647638Z",
     "start_time": "2021-12-02T06:00:23.848Z"
    }
   },
   "outputs": [],
   "source": [
    "import tensorflow as tf\n",
    "#Our base model is InceptionResNetV2, new readers are encouraged to see the architecture of this particular model\n",
    "\n",
    "base_model = tf.keras.applications.ResNet50V2(weights='imagenet', input_shape = (200,200,3),\n",
    "                                                     include_top=False)\n",
    "for layer in base_model.layers:\n",
    "    layer.trainable = False\n"
   ]
  },
  {
   "cell_type": "code",
   "execution_count": null,
   "id": "c8c661d6",
   "metadata": {
    "ExecuteTime": {
     "end_time": "2021-12-02T06:00:25.648378Z",
     "start_time": "2021-12-02T06:00:23.849Z"
    }
   },
   "outputs": [],
   "source": [
    "from tensorflow import keras"
   ]
  },
  {
   "cell_type": "code",
   "execution_count": null,
   "id": "362b5193",
   "metadata": {
    "ExecuteTime": {
     "end_time": "2021-12-02T06:00:25.649065Z",
     "start_time": "2021-12-02T06:00:23.851Z"
    }
   },
   "outputs": [],
   "source": [
    "#Now we will add some more layers to the base model for our requirements\n",
    "\n",
    "model = tf.keras.Sequential([\n",
    "    base_model, \n",
    "    tf.keras.layers.GlobalAveragePooling2D(), \n",
    "    tf.keras.layers.Dense(128, activation='relu'),\n",
    "    tf.keras.layers.BatchNormalization(), \n",
    "    tf.keras.layers.Dropout(0.3), \n",
    "    tf.keras.layers.Dense(1, activation='sigmoid')\n",
    "])\n",
    "\n",
    "callbacks = [\n",
    "    tf.keras.callbacks.ModelCheckpoint(\"covid_classifier_model.h5\", save_best_only=True, verbose = 0),\n",
    "    tf.keras.callbacks.EarlyStopping(patience=3, monitor='val_loss', verbose=1),\n",
    "    tf.keras.callbacks.ReduceLROnPlateau(monitor='val_loss', factor=0.5, patience=2, verbose=1)\n",
    "]\n",
    "\n",
    "model.compile(optimizer = keras.optimizers.Adam(learning_rate=0.0001),\n",
    "              loss = 'binary_crossentropy',\n",
    "              metrics=['accuracy'])\n"
   ]
  },
  {
   "cell_type": "code",
   "execution_count": null,
   "id": "af729a44",
   "metadata": {
    "ExecuteTime": {
     "end_time": "2021-12-02T06:00:25.649872Z",
     "start_time": "2021-12-02T06:00:23.852Z"
    }
   },
   "outputs": [],
   "source": [
    "history = model.fit(train_gen, \n",
    "                    validation_data=valid_gen, epochs=20, \n",
    "                    callbacks=[callbacks])\n"
   ]
  },
  {
   "cell_type": "code",
   "execution_count": null,
   "id": "f93024f5",
   "metadata": {
    "ExecuteTime": {
     "end_time": "2021-12-02T06:00:25.650470Z",
     "start_time": "2021-12-02T06:00:23.853Z"
    }
   },
   "outputs": [],
   "source": [
    "history = model.fit(train_gen, \n",
    "                    validation_data=valid_gen, epochs=20, \n",
    "                    callbacks=[callbacks])\n"
   ]
  },
  {
   "cell_type": "code",
   "execution_count": null,
   "id": "665bd12f",
   "metadata": {},
   "outputs": [],
   "source": []
  },
  {
   "cell_type": "code",
   "execution_count": null,
   "id": "73e94042",
   "metadata": {
    "ExecuteTime": {
     "end_time": "2021-12-02T06:00:25.650994Z",
     "start_time": "2021-12-02T06:00:23.855Z"
    }
   },
   "outputs": [],
   "source": [
    "from tensorflow.keras.models import Sequential\n",
    "from tensorflow.keras.layers import Dense, Dropout, Flatten, Conv2D, MaxPooling2D"
   ]
  },
  {
   "cell_type": "code",
   "execution_count": null,
   "id": "6353f2c6",
   "metadata": {
    "ExecuteTime": {
     "end_time": "2021-12-02T06:00:25.651567Z",
     "start_time": "2021-12-02T06:00:23.856Z"
    }
   },
   "outputs": [],
   "source": [
    "model = Sequential()\n",
    "model.add(Conv2D(200, (3, 3), activation='relu', padding='same', input_shape=(200,200,3)))\n",
    "model.add(Conv2D(200, (3, 3), activation='relu', padding='same'))\n",
    "model.add(MaxPooling2D(pool_size=(2, 2)))\n",
    "model.add(Dropout(0.25))\n",
    "\n",
    "model.add(Conv2D(400, (3, 3), activation='relu', padding='same'))\n",
    "model.add(Conv2D(400, (3, 3), activation='relu', padding='same'))\n",
    "model.add(MaxPooling2D(pool_size=(2, 2)))\n",
    "model.add(Dropout(0.25))\n",
    "\n",
    "model.add(Flatten())\n",
    "model.add(Dense(512, activation='relu'))\n",
    "model.add(Dropout(0.5))\n",
    "model.add(Dense(1, activation='sigmoid'))\n"
   ]
  },
  {
   "cell_type": "code",
   "execution_count": null,
   "id": "02d77a32",
   "metadata": {
    "ExecuteTime": {
     "end_time": "2021-12-02T06:00:25.652143Z",
     "start_time": "2021-12-02T06:00:23.858Z"
    }
   },
   "outputs": [],
   "source": [
    "model.compile(loss='categorical_crossentropy',\n",
    "              optimizer='adam',\n",
    "              metrics=['accuracy'])"
   ]
  },
  {
   "cell_type": "code",
   "execution_count": null,
   "id": "50f77efd",
   "metadata": {
    "ExecuteTime": {
     "end_time": "2021-12-02T06:00:25.652676Z",
     "start_time": "2021-12-02T06:00:23.859Z"
    }
   },
   "outputs": [],
   "source": [
    "hist = model.fit(train_gen,validation_data=valid_gen,  epochs=20)"
   ]
  },
  {
   "cell_type": "code",
   "execution_count": null,
   "id": "4529679b",
   "metadata": {},
   "outputs": [],
   "source": []
  }
 ],
 "metadata": {
  "kernelspec": {
   "display_name": "Python 3",
   "language": "python",
   "name": "python3"
  },
  "language_info": {
   "codemirror_mode": {
    "name": "ipython",
    "version": 3
   },
   "file_extension": ".py",
   "mimetype": "text/x-python",
   "name": "python",
   "nbconvert_exporter": "python",
   "pygments_lexer": "ipython3",
   "version": "3.8.8"
  },
  "toc": {
   "base_numbering": 1,
   "nav_menu": {},
   "number_sections": true,
   "sideBar": true,
   "skip_h1_title": false,
   "title_cell": "Table of Contents",
   "title_sidebar": "Contents",
   "toc_cell": false,
   "toc_position": {},
   "toc_section_display": true,
   "toc_window_display": true
  },
  "varInspector": {
   "cols": {
    "lenName": 16,
    "lenType": 16,
    "lenVar": 40
   },
   "kernels_config": {
    "python": {
     "delete_cmd_postfix": "",
     "delete_cmd_prefix": "del ",
     "library": "var_list.py",
     "varRefreshCmd": "print(var_dic_list())"
    },
    "r": {
     "delete_cmd_postfix": ") ",
     "delete_cmd_prefix": "rm(",
     "library": "var_list.r",
     "varRefreshCmd": "cat(var_dic_list()) "
    }
   },
   "types_to_exclude": [
    "module",
    "function",
    "builtin_function_or_method",
    "instance",
    "_Feature"
   ],
   "window_display": false
  }
 },
 "nbformat": 4,
 "nbformat_minor": 5
}
